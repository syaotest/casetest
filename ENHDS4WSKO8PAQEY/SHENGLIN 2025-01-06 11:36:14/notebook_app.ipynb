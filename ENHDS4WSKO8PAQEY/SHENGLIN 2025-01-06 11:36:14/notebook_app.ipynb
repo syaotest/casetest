{
 "metadata": {
  "kernelspec": {
   "display_name": "Streamlit Notebook",
   "name": "streamlit"
  },
  "lastEditStatus": {
   "notebookId": "2ru2kkvmarl5udtv2ku7",
   "authorId": "175922152493",
   "authorName": "SHENGLIN",
   "authorEmail": "shenglin.yao@snowflake.com",
   "sessionId": "1a121556-3b8c-43ee-b3a0-4dd3b2777edb",
   "lastEditTime": 1752224339593
  }
 },
 "nbformat_minor": 5,
 "nbformat": 4,
 "cells": [
  {
   "cell_type": "code",
   "id": "3775908f-ca36-4846-8f38-5adca39217f2",
   "metadata": {
    "language": "python",
    "name": "cell1"
   },
   "source": "# Import python packages\nimport streamlit as st\nimport pandas as pd\n\n# We can also use Snowpark for our analyses!\nfrom snowflake.snowpark.context import get_active_session\nsession = get_active_session()\n",
   "execution_count": null,
   "outputs": []
  },
  {
   "cell_type": "code",
   "id": "8d50cbf4-0c8d-4950-86cb-114990437ac9",
   "metadata": {
    "language": "sql",
    "name": "cell2"
   },
   "source": "SELECT * FROM syao.public.my_table;",
   "execution_count": null,
   "outputs": []
  },
  {
   "cell_type": "code",
   "id": "c695373e-ac74-4b62-a1f1-08206cbd5c81",
   "metadata": {
    "language": "python",
    "name": "cell3"
   },
   "source": "from snowflake.snowpark.context import get_active_session\nsession = get_active_session()\n\n# 创建一个示例表（如果不存在）\nsession.sql(\"\"\"\n    CREATE OR REPLACE TABLE syao.public.my_table (\n        id STRING,\n        name STRING\n    )\n\"\"\").collect()\n\nrow = (\"da\", \"Tom\")\n\nsession.sql(\"INSERT INTO syao.public.my_table (id, name) VALUES (?, ?)\", params=[\"4\",\"\"]).collect()\n\n# 检查插入后的数据\nsession.table(\"syao.public.my_table\").show()\n\n\n",
   "execution_count": null,
   "outputs": []
  }
 ]
}